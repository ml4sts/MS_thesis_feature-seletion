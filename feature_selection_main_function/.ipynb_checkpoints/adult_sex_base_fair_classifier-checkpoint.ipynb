{
 "cells": [
  {
   "cell_type": "code",
   "execution_count": 24,
   "id": "0ae4949c-0c69-43b3-b188-a6d514549f4c",
   "metadata": {},
   "outputs": [],
   "source": [
    "from feature_selection_module import *\n",
    "import os\n",
    "import pandas as pd"
   ]
  },
  {
   "cell_type": "code",
   "execution_count": 25,
   "id": "b2449b11-7cfa-4e72-899c-364825eab69d",
   "metadata": {},
   "outputs": [],
   "source": [
    "class NamedDataset():\n",
    "    def __init__(self,name,df):\n",
    "        self.name = name\n",
    "        self.df = df"
   ]
  },
  {
   "cell_type": "code",
   "execution_count": 26,
   "id": "954d9d88-f373-41de-9963-5ad5f453e048",
   "metadata": {},
   "outputs": [],
   "source": [
    "def name_function(cur_param):\n",
    "    name_parts = []\n",
    "    name_parts.append(cur_param['data'].name) \n",
    "    # some short version of features\n",
    "    name_parts.append(cur_param['technique'].__name__)\n",
    "    name_parts.append(cur_param['model'].__name__)\n",
    "    print(name_parts)\n",
    "    return '_'.join(name_parts)"
   ]
  },
  {
   "cell_type": "code",
   "execution_count": 27,
   "id": "68a8f392-205f-4124-b2a7-613940781f64",
   "metadata": {},
   "outputs": [
    {
     "data": {
      "text/html": [
       "<div>\n",
       "<style scoped>\n",
       "    .dataframe tbody tr th:only-of-type {\n",
       "        vertical-align: middle;\n",
       "    }\n",
       "\n",
       "    .dataframe tbody tr th {\n",
       "        vertical-align: top;\n",
       "    }\n",
       "\n",
       "    .dataframe thead th {\n",
       "        text-align: right;\n",
       "    }\n",
       "</style>\n",
       "<table border=\"1\" class=\"dataframe\">\n",
       "  <thead>\n",
       "    <tr style=\"text-align: right;\">\n",
       "      <th></th>\n",
       "      <th>age</th>\n",
       "      <th>education-num</th>\n",
       "      <th>sex</th>\n",
       "      <th>capital-gain</th>\n",
       "      <th>capital-loss</th>\n",
       "      <th>hours-per-week</th>\n",
       "      <th>income-per-year</th>\n",
       "      <th>education</th>\n",
       "      <th>marital-status</th>\n",
       "      <th>native-country</th>\n",
       "      <th>occupation</th>\n",
       "      <th>race</th>\n",
       "      <th>relationship</th>\n",
       "      <th>workclass</th>\n",
       "    </tr>\n",
       "  </thead>\n",
       "  <tbody>\n",
       "    <tr>\n",
       "      <th>0</th>\n",
       "      <td>25.0</td>\n",
       "      <td>7.0</td>\n",
       "      <td>1.0</td>\n",
       "      <td>0.0</td>\n",
       "      <td>0.0</td>\n",
       "      <td>40.0</td>\n",
       "      <td>0.0</td>\n",
       "      <td>11th</td>\n",
       "      <td>Never-married</td>\n",
       "      <td>United-States</td>\n",
       "      <td>Machine-op-inspct</td>\n",
       "      <td>Black</td>\n",
       "      <td>Own-child</td>\n",
       "      <td>Private</td>\n",
       "    </tr>\n",
       "    <tr>\n",
       "      <th>1</th>\n",
       "      <td>38.0</td>\n",
       "      <td>9.0</td>\n",
       "      <td>1.0</td>\n",
       "      <td>0.0</td>\n",
       "      <td>0.0</td>\n",
       "      <td>50.0</td>\n",
       "      <td>0.0</td>\n",
       "      <td>HS-grad</td>\n",
       "      <td>Married-civ-spouse</td>\n",
       "      <td>United-States</td>\n",
       "      <td>Farming-fishing</td>\n",
       "      <td>White</td>\n",
       "      <td>Husband</td>\n",
       "      <td>Private</td>\n",
       "    </tr>\n",
       "    <tr>\n",
       "      <th>2</th>\n",
       "      <td>28.0</td>\n",
       "      <td>12.0</td>\n",
       "      <td>1.0</td>\n",
       "      <td>0.0</td>\n",
       "      <td>0.0</td>\n",
       "      <td>40.0</td>\n",
       "      <td>1.0</td>\n",
       "      <td>Assoc-acdm</td>\n",
       "      <td>Married-civ-spouse</td>\n",
       "      <td>United-States</td>\n",
       "      <td>Protective-serv</td>\n",
       "      <td>White</td>\n",
       "      <td>Husband</td>\n",
       "      <td>Local-gov</td>\n",
       "    </tr>\n",
       "    <tr>\n",
       "      <th>3</th>\n",
       "      <td>44.0</td>\n",
       "      <td>10.0</td>\n",
       "      <td>1.0</td>\n",
       "      <td>7688.0</td>\n",
       "      <td>0.0</td>\n",
       "      <td>40.0</td>\n",
       "      <td>1.0</td>\n",
       "      <td>Some-college</td>\n",
       "      <td>Married-civ-spouse</td>\n",
       "      <td>United-States</td>\n",
       "      <td>Machine-op-inspct</td>\n",
       "      <td>Black</td>\n",
       "      <td>Husband</td>\n",
       "      <td>Private</td>\n",
       "    </tr>\n",
       "    <tr>\n",
       "      <th>4</th>\n",
       "      <td>34.0</td>\n",
       "      <td>6.0</td>\n",
       "      <td>1.0</td>\n",
       "      <td>0.0</td>\n",
       "      <td>0.0</td>\n",
       "      <td>30.0</td>\n",
       "      <td>0.0</td>\n",
       "      <td>10th</td>\n",
       "      <td>Never-married</td>\n",
       "      <td>United-States</td>\n",
       "      <td>Other-service</td>\n",
       "      <td>White</td>\n",
       "      <td>Not-in-family</td>\n",
       "      <td>Private</td>\n",
       "    </tr>\n",
       "  </tbody>\n",
       "</table>\n",
       "</div>"
      ],
      "text/plain": [
       "    age  education-num  sex  capital-gain  capital-loss  hours-per-week  \\\n",
       "0  25.0            7.0  1.0           0.0           0.0            40.0   \n",
       "1  38.0            9.0  1.0           0.0           0.0            50.0   \n",
       "2  28.0           12.0  1.0           0.0           0.0            40.0   \n",
       "3  44.0           10.0  1.0        7688.0           0.0            40.0   \n",
       "4  34.0            6.0  1.0           0.0           0.0            30.0   \n",
       "\n",
       "   income-per-year     education      marital-status native-country  \\\n",
       "0              0.0          11th       Never-married  United-States   \n",
       "1              0.0       HS-grad  Married-civ-spouse  United-States   \n",
       "2              1.0    Assoc-acdm  Married-civ-spouse  United-States   \n",
       "3              1.0  Some-college  Married-civ-spouse  United-States   \n",
       "4              0.0          10th       Never-married  United-States   \n",
       "\n",
       "          occupation   race   relationship  workclass  \n",
       "0  Machine-op-inspct  Black      Own-child    Private  \n",
       "1    Farming-fishing  White        Husband    Private  \n",
       "2    Protective-serv  White        Husband  Local-gov  \n",
       "3  Machine-op-inspct  Black        Husband    Private  \n",
       "4      Other-service  White  Not-in-family    Private  "
      ]
     },
     "execution_count": 27,
     "metadata": {},
     "output_type": "execute_result"
    }
   ],
   "source": [
    "\n",
    "adult_df = pd.read_csv('adult_dataset.csv')\n",
    "adult_df.drop('Unnamed: 0', axis = 1, inplace = True)\n",
    "adult_df.head()\n"
   ]
  },
  {
   "cell_type": "markdown",
   "id": "8a6b42ec-d443-4853-8ddc-2700663fcb55",
   "metadata": {},
   "source": [
    "# Uncomment this part as it runs directly without using exp tool to see results right here\n"
   ]
  },
  {
   "cell_type": "code",
   "execution_count": null,
   "id": "b29eae7a-7864-4886-80aa-b0c524a7682d",
   "metadata": {},
   "outputs": [],
   "source": [
    "\n",
    "# features_num = ['hours-per-week', 'capital-gain', 'capital-loss','education-num' ] # all the numerical fearures\n",
    "# features_cat =  ['workclass','education', 'relationship', 'occupation'] # categorical features\n",
    "# protected_attributes = ['sex','race','age_bins', 'marital-status']\n",
    "# target = 'income-per-year' # proxy target\n",
    "\n",
    "# p_att_col = 'sex' # calculating on individual p_att 'sex'\n",
    "# priviliged_vals = [1] # [priviliged_vals = [white] for white vs all ; priviliged_vals = [white,asian] if both are considered privileged]\n",
    "# model = base_classifier # model\n",
    "# technique = sequential_feature_selection_forward # feature selection technique\n",
    "# etas = [1]\n",
    "# feat_dictionary= {'hours-per-week':3,'capital-gain':10,'capital-loss':5,'education-num':5 ,'workclass':7,'education':16, 'relationship':6, 'occupation':14 }\n",
    "\n",
    "\n",
    "\n",
    "# main_exp_bf_func(adult_dataset,features_cat,features_num,protected_attributes, target, p_att_col, \\\n",
    "#                  priviliged_vals , etas, feat_dictionary, technique, model)\n",
    " "
   ]
  },
  {
   "cell_type": "code",
   "execution_count": 28,
   "id": "9fca17f0-914c-4a1a-8e0a-0f7876d51ae0",
   "metadata": {},
   "outputs": [],
   "source": [
    "adult_dataset = NamedDataset('adult',adult_df)\n"
   ]
  },
  {
   "cell_type": "markdown",
   "id": "53504a99-916d-4863-9adc-5233cb92ecb7",
   "metadata": {},
   "source": [
    "# sex, xy_greater_xa, base classifier"
   ]
  },
  {
   "cell_type": "code",
   "execution_count": 40,
   "id": "abcf56f0-1520-4d50-9359-7a66fcb39a21",
   "metadata": {},
   "outputs": [
    {
     "name": "stdout",
     "output_type": "stream",
     "text": [
      "['adult', 'xy_greater_xa', 'base_classifier']\n",
      "Index(['filtered_sex', 'workclass', 'education', 'hours-per-week',\n",
      "       'capital-gain', 'capital-loss', 'education-num'],\n",
      "      dtype='object')\n"
     ]
    }
   ],
   "source": [
    "features_num = ['hours-per-week', 'capital-gain', 'capital-loss','education-num' ] \n",
    "features_cat =  ['workclass','education', 'relationship', 'occupation'] \n",
    "protected_attributes = ['sex','race','age', 'marital-status']\n",
    "target = 'income-per-year'\n",
    "\n",
    "\n",
    "p_att_col = 'sex'\n",
    "priviliged_vals = [1]\n",
    "model = base_classifier\n",
    "technique = xy_greater_xa\n",
    "etas = [1]\n",
    "feat_dictionary= {'hours-per-week':3,'capital-gain':10,'capital-loss':5,'education-num':5 ,'workclass':7,'education':16, 'relationship':6, 'occupation':14 }\n",
    " \n",
    "\n",
    "thesis_param_grid = {'data':[adult_dataset],'features_cat': [features_cat], 'features_num':[features_num],\\\n",
    "                     'protected_attributes':[protected_attributes],\\\n",
    "                     'target': [target], 'p_att_col': [p_att_col],'priviliged_vals':\\\n",
    "                     [priviliged_vals] , 'etas': [etas], 'feat_dictionary' : [feat_dictionary],\\\n",
    "                     'technique': [technique], 'model': [model]}\n",
    "\n",
    "my_expt = Experiment(main_exp_bf_func,thesis_param_grid)\n",
    "batchname, successes ,fails = my_expt.run_batch(expt_name = 'criteria1_sex_base_classifier', name_func = name_function)"
   ]
  },
  {
   "cell_type": "markdown",
   "id": "d6da4108-5937-4f12-a412-5b45e529e869",
   "metadata": {},
   "source": [
    "# sex, xy_greater_xa, fair classifier"
   ]
  },
  {
   "cell_type": "code",
   "execution_count": 41,
   "id": "9ff17f82-98e5-49af-8f91-8aa312d20fae",
   "metadata": {},
   "outputs": [
    {
     "name": "stdout",
     "output_type": "stream",
     "text": [
      "['adult', 'xy_greater_xa', 'fair_classifier']\n",
      "['filtered_sex', 'workclass', 'education', 'hours-per-week', 'capital-gain', 'capital-loss', 'education-num', 'income-per-year']\n"
     ]
    }
   ],
   "source": [
    "features_num = ['hours-per-week', 'capital-gain', 'capital-loss','education-num' ] \n",
    "features_cat =  ['workclass','education', 'relationship', 'occupation'] \n",
    "protected_attributes = ['sex','race','age', 'marital-status']\n",
    "target = 'income-per-year'\n",
    "\n",
    "\n",
    "p_att_col = 'sex'\n",
    "priviliged_vals = [1]\n",
    "model = fair_classifier\n",
    "technique = xy_greater_xa\n",
    "etas = [1]\n",
    "feat_dictionary= {'hours-per-week':3,'capital-gain':10,'capital-loss':5,'education-num':5 ,'workclass':7,'education':16, 'relationship':6, 'occupation':14 }\n",
    " \n",
    "\n",
    "thesis_param_grid = {'data':[adult_dataset],'features_cat': [features_cat], 'features_num':[features_num],\\\n",
    "                     'protected_attributes':[protected_attributes],\\\n",
    "                     'target': [target], 'p_att_col': [p_att_col],'priviliged_vals':\\\n",
    "                     [priviliged_vals] , 'etas': [etas], 'feat_dictionary' : [feat_dictionary],\\\n",
    "                     'technique': [technique], 'model': [model]}\n",
    "\n",
    "my_expt = Experiment(main_exp_bf_func,thesis_param_grid)\n",
    "batchname, successes ,fails = my_expt.run_batch(expt_name = 'criteria1_sex_fair_classifier', name_func = name_function)\n"
   ]
  },
  {
   "cell_type": "markdown",
   "id": "ad616c64-ab19-409e-8789-70e2cb7c6748",
   "metadata": {},
   "source": [
    "# sex, forward sfs, base classifier"
   ]
  },
  {
   "cell_type": "code",
   "execution_count": 39,
   "id": "6f83eaab-a01a-479e-b804-d68823f6c230",
   "metadata": {},
   "outputs": [
    {
     "name": "stdout",
     "output_type": "stream",
     "text": [
      "['adult', 'sequential_feature_selection_forward', 'base_classifier']\n",
      "Index(['filtered_sex', 'hours-per-week', 'capital-gain', 'capital-loss',\n",
      "       'education-num'],\n",
      "      dtype='object')\n"
     ]
    }
   ],
   "source": [
    "features_num = ['hours-per-week', 'capital-gain', 'capital-loss','education-num' ] \n",
    "features_cat =  ['workclass','education', 'relationship', 'occupation'] \n",
    "protected_attributes = ['sex','race','age', 'marital-status']\n",
    "target = 'income-per-year'\n",
    "\n",
    "\n",
    "p_att_col = 'sex'\n",
    "priviliged_vals = [1]\n",
    "model = base_classifier\n",
    "technique = sequential_feature_selection_forward\n",
    "etas = [1]\n",
    "feat_dictionary= {'hours-per-week':3,'capital-gain':10,'capital-loss':5,'education-num':5 ,'workclass':7,'education':16, 'relationship':6, 'occupation':14 }\n",
    " \n",
    "\n",
    "thesis_param_grid = {'data':[adult_dataset],'features_cat': [features_cat], 'features_num':[features_num],\\\n",
    "                     'protected_attributes':[protected_attributes],\\\n",
    "                     'target': [target], 'p_att_col': [p_att_col],'priviliged_vals':\\\n",
    "                     [priviliged_vals] , 'etas': [etas], 'feat_dictionary' : [feat_dictionary],\\\n",
    "                     'technique': [technique], 'model': [model]}\n",
    "\n",
    "my_expt = Experiment(main_exp_bf_func,thesis_param_grid)\n",
    "batchname, successes ,fails = my_expt.run_batch(expt_name = 'criteria2_fsfs_sex_base_classifier', name_func = name_function)"
   ]
  },
  {
   "cell_type": "markdown",
   "id": "89050161-10d7-48f3-9b88-b6c40cb9576f",
   "metadata": {},
   "source": [
    "# sex, forward sfs, fair classifier\n"
   ]
  },
  {
   "cell_type": "code",
   "execution_count": 43,
   "id": "947e86e6-2f6a-47eb-b27c-becab6bd08c9",
   "metadata": {},
   "outputs": [
    {
     "name": "stdout",
     "output_type": "stream",
     "text": [
      "['adult', 'sequential_feature_selection_forward', 'fair_classifier']\n",
      "['filtered_sex', 'hours-per-week', 'capital-gain', 'capital-loss', 'education-num', 'income-per-year']\n"
     ]
    }
   ],
   "source": [
    "features_num = ['hours-per-week', 'capital-gain', 'capital-loss','education-num' ] \n",
    "features_cat =  ['workclass','education', 'relationship', 'occupation'] \n",
    "protected_attributes = ['sex','race','age', 'marital-status']\n",
    "target = 'income-per-year'\n",
    "\n",
    "\n",
    "p_att_col = 'sex'\n",
    "priviliged_vals = [1]\n",
    "model = fair_classifier\n",
    "technique = sequential_feature_selection_forward\n",
    "etas = [1]\n",
    "feat_dictionary= {'hours-per-week':3,'capital-gain':10,'capital-loss':5,'education-num':5 ,'workclass':7,'education':16, 'relationship':6, 'occupation':14 }\n",
    " \n",
    "\n",
    "thesis_param_grid = {'data':[adult_dataset],'features_cat': [features_cat], 'features_num':[features_num],\\\n",
    "                     'protected_attributes':[protected_attributes],\\\n",
    "                     'target': [target], 'p_att_col': [p_att_col],'priviliged_vals':\\\n",
    "                     [priviliged_vals] , 'etas': [etas], 'feat_dictionary' : [feat_dictionary],\\\n",
    "                     'technique': [technique], 'model': [model]}\n",
    "\n",
    "my_expt = Experiment(main_exp_bf_func,thesis_param_grid)\n",
    "batchname, successes ,fails = my_expt.run_batch(expt_name = 'criteria2_fsfs_sex_fair_classifier', name_func = name_function)"
   ]
  },
  {
   "cell_type": "markdown",
   "id": "b1cd0317-f84e-4aed-a464-5a3fc76baf64",
   "metadata": {},
   "source": [
    "# sex, backward sfs, base classifier\n"
   ]
  },
  {
   "cell_type": "code",
   "execution_count": 45,
   "id": "cd2d7ba0-571f-4ab6-95ee-9dd1c7cc1861",
   "metadata": {},
   "outputs": [
    {
     "name": "stdout",
     "output_type": "stream",
     "text": [
      "['adult', 'sequential_feature_selection_backward', 'base_classifier']\n",
      "Index(['filtered_sex', 'workclass', 'education', 'relationship', 'occupation'], dtype='object')\n"
     ]
    }
   ],
   "source": [
    "features_num = ['hours-per-week', 'capital-gain', 'capital-loss','education-num' ] \n",
    "features_cat =  ['workclass','education', 'relationship', 'occupation'] \n",
    "protected_attributes = ['sex','race','age', 'marital-status']\n",
    "target = 'income-per-year'\n",
    "\n",
    "\n",
    "p_att_col = 'sex'\n",
    "priviliged_vals = [1]\n",
    "model = base_classifier\n",
    "technique = sequential_feature_selection_backward\n",
    "etas = [1]\n",
    "feat_dictionary= {'hours-per-week':3,'capital-gain':10,'capital-loss':5,'education-num':5 ,'workclass':7,'education':16, 'relationship':6, 'occupation':14 }\n",
    " \n",
    "\n",
    "thesis_param_grid = {'data':[adult_dataset],'features_cat': [features_cat], 'features_num':[features_num],\\\n",
    "                     'protected_attributes':[protected_attributes],\\\n",
    "                     'target': [target], 'p_att_col': [p_att_col],'priviliged_vals':\\\n",
    "                     [priviliged_vals] , 'etas': [etas], 'feat_dictionary' : [feat_dictionary],\\\n",
    "                     'technique': [technique], 'model': [model]}\n",
    "\n",
    "my_expt = Experiment(main_exp_bf_func,thesis_param_grid)\n",
    "batchname, successes ,fails = my_expt.run_batch(expt_name = 'criteria2_bsfs_sex_base_classifier', name_func = name_function)"
   ]
  },
  {
   "cell_type": "markdown",
   "id": "b9457bde-2e5c-4864-bf02-b84c14fd53cd",
   "metadata": {},
   "source": [
    "# sex, backward sfs, fair classifier\n"
   ]
  },
  {
   "cell_type": "code",
   "execution_count": 46,
   "id": "55a3810e-d076-47b1-9825-bf8f29546298",
   "metadata": {},
   "outputs": [
    {
     "name": "stdout",
     "output_type": "stream",
     "text": [
      "['adult', 'sequential_feature_selection_backward', 'fair_classifier']\n",
      "['filtered_sex', 'workclass', 'education', 'relationship', 'occupation', 'income-per-year']\n"
     ]
    }
   ],
   "source": [
    "features_num = ['hours-per-week', 'capital-gain', 'capital-loss','education-num' ] \n",
    "features_cat =  ['workclass','education', 'relationship', 'occupation'] \n",
    "protected_attributes = ['sex','race','age', 'marital-status']\n",
    "target = 'income-per-year'\n",
    "\n",
    "\n",
    "p_att_col = 'sex'\n",
    "priviliged_vals = [1]\n",
    "model = fair_classifier\n",
    "technique = sequential_feature_selection_backward\n",
    "etas = [1]\n",
    "feat_dictionary= {'hours-per-week':3,'capital-gain':10,'capital-loss':5,'education-num':5 ,'workclass':7,'education':16, 'relationship':6, 'occupation':14 }\n",
    " \n",
    "\n",
    "thesis_param_grid = {'data':[adult_dataset],'features_cat': [features_cat], 'features_num':[features_num],\\\n",
    "                     'protected_attributes':[protected_attributes],\\\n",
    "                     'target': [target], 'p_att_col': [p_att_col],'priviliged_vals':\\\n",
    "                     [priviliged_vals] , 'etas': [etas], 'feat_dictionary' : [feat_dictionary],\\\n",
    "                     'technique': [technique], 'model': [model]}\n",
    "\n",
    "my_expt = Experiment(main_exp_bf_func,thesis_param_grid)\n",
    "batchname, successes ,fails = my_expt.run_batch(expt_name = 'criteria2_bsfs_sex_fair_classifier', name_func = name_function)"
   ]
  },
  {
   "cell_type": "markdown",
   "id": "faabfddd-37cd-4243-bc63-59f929867c45",
   "metadata": {},
   "source": [
    "# sex, MRMR, base classifier\n"
   ]
  },
  {
   "cell_type": "code",
   "execution_count": 47,
   "id": "267ce797-03c3-4a62-b442-2682b2ccec4e",
   "metadata": {},
   "outputs": [
    {
     "name": "stdout",
     "output_type": "stream",
     "text": [
      "['adult', 'maximally_predictive_minimally_demographic', 'base_classifier']\n",
      "Index(['filtered_sex', 'capital-gain', 'education-num', 'education',\n",
      "       'capital-loss', 'hours-per-week'],\n",
      "      dtype='object')\n"
     ]
    }
   ],
   "source": [
    "features_num = ['hours-per-week', 'capital-gain', 'capital-loss','education-num' ] \n",
    "features_cat =  ['workclass','education', 'relationship', 'occupation'] \n",
    "protected_attributes = ['sex','race','age', 'marital-status']\n",
    "target = 'income-per-year'\n",
    "\n",
    "\n",
    "p_att_col = 'sex'\n",
    "priviliged_vals = [1]\n",
    "model = base_classifier\n",
    "technique = maximally_predictive_minimally_demographic\n",
    "etas = [1]\n",
    "feat_dictionary= {'hours-per-week':3,'capital-gain':10,'capital-loss':5,'education-num':5 ,'workclass':7,'education':16, 'relationship':6, 'occupation':14 }\n",
    " \n",
    "\n",
    "thesis_param_grid = {'data':[adult_dataset],'features_cat': [features_cat], 'features_num':[features_num],\\\n",
    "                     'protected_attributes':[protected_attributes],\\\n",
    "                     'target': [target], 'p_att_col': [p_att_col],'priviliged_vals':\\\n",
    "                     [priviliged_vals] , 'etas': [etas], 'feat_dictionary' : [feat_dictionary],\\\n",
    "                     'technique': [technique], 'model': [model]}\n",
    "\n",
    "my_expt = Experiment(main_exp_bf_func,thesis_param_grid)\n",
    "batchname, successes ,fails = my_expt.run_batch(expt_name = 'criteria3_sex_base_classifier', name_func = name_function)"
   ]
  },
  {
   "cell_type": "markdown",
   "id": "0bca7492-fcf9-4073-8bb1-97193d072514",
   "metadata": {},
   "source": [
    "# sex, MRMR, fair classifier\n"
   ]
  },
  {
   "cell_type": "code",
   "execution_count": 48,
   "id": "bca4803d-be48-43c4-8013-8910fcc1cbc2",
   "metadata": {},
   "outputs": [
    {
     "name": "stdout",
     "output_type": "stream",
     "text": [
      "['adult', 'maximally_predictive_minimally_demographic', 'fair_classifier']\n",
      "['filtered_sex', 'capital-gain', 'education-num', 'education', 'capital-loss', 'hours-per-week', 'income-per-year']\n"
     ]
    }
   ],
   "source": [
    "features_num = ['hours-per-week', 'capital-gain', 'capital-loss','education-num' ] \n",
    "features_cat =  ['workclass','education', 'relationship', 'occupation'] \n",
    "protected_attributes = ['sex','race','age', 'marital-status']\n",
    "target = 'income-per-year'\n",
    "\n",
    "\n",
    "p_att_col = 'sex'\n",
    "priviliged_vals = [1]\n",
    "model = fair_classifier\n",
    "technique = maximally_predictive_minimally_demographic\n",
    "etas = [1]\n",
    "feat_dictionary= {'hours-per-week':3,'capital-gain':10,'capital-loss':5,'education-num':5 ,'workclass':7,'education':16, 'relationship':6, 'occupation':14 }\n",
    " \n",
    "\n",
    "thesis_param_grid = {'data':[adult_dataset],'features_cat': [features_cat], 'features_num':[features_num],\\\n",
    "                     'protected_attributes':[protected_attributes],\\\n",
    "                     'target': [target], 'p_att_col': [p_att_col],'priviliged_vals':\\\n",
    "                     [priviliged_vals] , 'etas': [etas], 'feat_dictionary' : [feat_dictionary],\\\n",
    "                     'technique': [technique], 'model': [model]}\n",
    "\n",
    "my_expt = Experiment(main_exp_bf_func,thesis_param_grid)\n",
    "batchname, successes ,fails = my_expt.run_batch(expt_name = 'criteria3_sex_fair_classifier', name_func = name_function)"
   ]
  },
  {
   "cell_type": "code",
   "execution_count": null,
   "id": "736e82d1-0aaa-46fb-9211-b7a91604dd1a",
   "metadata": {},
   "outputs": [],
   "source": []
  }
 ],
 "metadata": {
  "kernelspec": {
   "display_name": "Python (root)",
   "language": "python",
   "name": "conda-root-py"
  },
  "language_info": {
   "codemirror_mode": {
    "name": "ipython",
    "version": 3
   },
   "file_extension": ".py",
   "mimetype": "text/x-python",
   "name": "python",
   "nbconvert_exporter": "python",
   "pygments_lexer": "ipython3",
   "version": "3.9.7"
  }
 },
 "nbformat": 4,
 "nbformat_minor": 5
}
