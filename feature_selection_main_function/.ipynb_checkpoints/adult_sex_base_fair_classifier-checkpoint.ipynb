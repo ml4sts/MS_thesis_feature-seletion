{
 "cells": [
  {
   "cell_type": "code",
   "execution_count": 1,
   "id": "d2db8009",
   "metadata": {},
   "outputs": [],
   "source": [
    "import feature_selection_module as fsm\n",
    "import os\n",
    "import pandas as pd\n",
    "\n",
    "from expttools import Experiment"
   ]
  },
  {
   "cell_type": "code",
   "execution_count": 17,
   "id": "23aceafb",
   "metadata": {},
   "outputs": [],
   "source": [
    "class NamedDataset():\n",
    "    def __init__(self,name,df):\n",
    "        self.name = name\n",
    "        self.df = df\n",
    "        \n",
    "    def copy(self):\n",
    "        return self"
   ]
  },
  {
   "cell_type": "code",
   "execution_count": 3,
   "id": "63c775cd",
   "metadata": {},
   "outputs": [],
   "source": [
    "def name_function(cur_param):\n",
    "    name_parts = []\n",
    "    name_parts.append(cur_param['data'].name) \n",
    "    # some short version of features\n",
    "    name_parts.append(cur_param['technique'].__name__)\n",
    "    name_parts.append(cur_param['model'].__name__)\n",
    "    print(name_parts)\n",
    "    return '_'.join(name_parts)"
   ]
  },
  {
   "cell_type": "code",
   "execution_count": 4,
   "id": "1517bf71",
   "metadata": {},
   "outputs": [
    {
     "data": {
      "text/html": [
       "<div>\n",
       "<style scoped>\n",
       "    .dataframe tbody tr th:only-of-type {\n",
       "        vertical-align: middle;\n",
       "    }\n",
       "\n",
       "    .dataframe tbody tr th {\n",
       "        vertical-align: top;\n",
       "    }\n",
       "\n",
       "    .dataframe thead th {\n",
       "        text-align: right;\n",
       "    }\n",
       "</style>\n",
       "<table border=\"1\" class=\"dataframe\">\n",
       "  <thead>\n",
       "    <tr style=\"text-align: right;\">\n",
       "      <th></th>\n",
       "      <th>age</th>\n",
       "      <th>education-num</th>\n",
       "      <th>sex</th>\n",
       "      <th>capital-gain</th>\n",
       "      <th>capital-loss</th>\n",
       "      <th>hours-per-week</th>\n",
       "      <th>income-per-year</th>\n",
       "      <th>education</th>\n",
       "      <th>marital-status</th>\n",
       "      <th>native-country</th>\n",
       "      <th>occupation</th>\n",
       "      <th>race</th>\n",
       "      <th>relationship</th>\n",
       "      <th>workclass</th>\n",
       "    </tr>\n",
       "  </thead>\n",
       "  <tbody>\n",
       "    <tr>\n",
       "      <th>0</th>\n",
       "      <td>25.0</td>\n",
       "      <td>7.0</td>\n",
       "      <td>1.0</td>\n",
       "      <td>0.0</td>\n",
       "      <td>0.0</td>\n",
       "      <td>40.0</td>\n",
       "      <td>0.0</td>\n",
       "      <td>11th</td>\n",
       "      <td>Never-married</td>\n",
       "      <td>United-States</td>\n",
       "      <td>Machine-op-inspct</td>\n",
       "      <td>Black</td>\n",
       "      <td>Own-child</td>\n",
       "      <td>Private</td>\n",
       "    </tr>\n",
       "    <tr>\n",
       "      <th>1</th>\n",
       "      <td>38.0</td>\n",
       "      <td>9.0</td>\n",
       "      <td>1.0</td>\n",
       "      <td>0.0</td>\n",
       "      <td>0.0</td>\n",
       "      <td>50.0</td>\n",
       "      <td>0.0</td>\n",
       "      <td>HS-grad</td>\n",
       "      <td>Married-civ-spouse</td>\n",
       "      <td>United-States</td>\n",
       "      <td>Farming-fishing</td>\n",
       "      <td>White</td>\n",
       "      <td>Husband</td>\n",
       "      <td>Private</td>\n",
       "    </tr>\n",
       "    <tr>\n",
       "      <th>2</th>\n",
       "      <td>28.0</td>\n",
       "      <td>12.0</td>\n",
       "      <td>1.0</td>\n",
       "      <td>0.0</td>\n",
       "      <td>0.0</td>\n",
       "      <td>40.0</td>\n",
       "      <td>1.0</td>\n",
       "      <td>Assoc-acdm</td>\n",
       "      <td>Married-civ-spouse</td>\n",
       "      <td>United-States</td>\n",
       "      <td>Protective-serv</td>\n",
       "      <td>White</td>\n",
       "      <td>Husband</td>\n",
       "      <td>Local-gov</td>\n",
       "    </tr>\n",
       "    <tr>\n",
       "      <th>3</th>\n",
       "      <td>44.0</td>\n",
       "      <td>10.0</td>\n",
       "      <td>1.0</td>\n",
       "      <td>7688.0</td>\n",
       "      <td>0.0</td>\n",
       "      <td>40.0</td>\n",
       "      <td>1.0</td>\n",
       "      <td>Some-college</td>\n",
       "      <td>Married-civ-spouse</td>\n",
       "      <td>United-States</td>\n",
       "      <td>Machine-op-inspct</td>\n",
       "      <td>Black</td>\n",
       "      <td>Husband</td>\n",
       "      <td>Private</td>\n",
       "    </tr>\n",
       "    <tr>\n",
       "      <th>4</th>\n",
       "      <td>34.0</td>\n",
       "      <td>6.0</td>\n",
       "      <td>1.0</td>\n",
       "      <td>0.0</td>\n",
       "      <td>0.0</td>\n",
       "      <td>30.0</td>\n",
       "      <td>0.0</td>\n",
       "      <td>10th</td>\n",
       "      <td>Never-married</td>\n",
       "      <td>United-States</td>\n",
       "      <td>Other-service</td>\n",
       "      <td>White</td>\n",
       "      <td>Not-in-family</td>\n",
       "      <td>Private</td>\n",
       "    </tr>\n",
       "  </tbody>\n",
       "</table>\n",
       "</div>"
      ],
      "text/plain": [
       "    age  education-num  sex  capital-gain  capital-loss  hours-per-week  \\\n",
       "0  25.0            7.0  1.0           0.0           0.0            40.0   \n",
       "1  38.0            9.0  1.0           0.0           0.0            50.0   \n",
       "2  28.0           12.0  1.0           0.0           0.0            40.0   \n",
       "3  44.0           10.0  1.0        7688.0           0.0            40.0   \n",
       "4  34.0            6.0  1.0           0.0           0.0            30.0   \n",
       "\n",
       "   income-per-year     education      marital-status native-country  \\\n",
       "0              0.0          11th       Never-married  United-States   \n",
       "1              0.0       HS-grad  Married-civ-spouse  United-States   \n",
       "2              1.0    Assoc-acdm  Married-civ-spouse  United-States   \n",
       "3              1.0  Some-college  Married-civ-spouse  United-States   \n",
       "4              0.0          10th       Never-married  United-States   \n",
       "\n",
       "          occupation   race   relationship  workclass  \n",
       "0  Machine-op-inspct  Black      Own-child    Private  \n",
       "1    Farming-fishing  White        Husband    Private  \n",
       "2    Protective-serv  White        Husband  Local-gov  \n",
       "3  Machine-op-inspct  Black        Husband    Private  \n",
       "4      Other-service  White  Not-in-family    Private  "
      ]
     },
     "execution_count": 4,
     "metadata": {},
     "output_type": "execute_result"
    }
   ],
   "source": [
    "\n",
    "adult_df = pd.read_csv('adult_dataset.csv')\n",
    "adult_df.drop('Unnamed: 0', axis = 1, inplace = True)\n",
    "adult_df.head()\n"
   ]
  },
  {
   "cell_type": "markdown",
   "id": "a8549e88",
   "metadata": {},
   "source": [
    "# Uncomment this part as it runs directly without using exp tool to see results right here\n"
   ]
  },
  {
   "cell_type": "code",
   "execution_count": 5,
   "id": "6da6a473",
   "metadata": {},
   "outputs": [],
   "source": [
    "\n",
    "# features_num = ['hours-per-week', 'capital-gain', 'capital-loss','education-num' ] # all the numerical fearures\n",
    "# features_cat =  ['workclass','education', 'relationship', 'occupation'] # categorical features\n",
    "# protected_attributes = ['sex','race','age_bins', 'marital-status']\n",
    "# target = 'income-per-year' # proxy target\n",
    "\n",
    "# p_att_col = 'sex' # calculating on individual p_att 'sex'\n",
    "# priviliged_vals = [1] # [priviliged_vals = [white] for white vs all ; priviliged_vals = [white,asian] if both are considered privileged]\n",
    "# model = base_classifier # model\n",
    "# technique = sequential_feature_selection_forward # feature selection technique\n",
    "# etas = [1]\n",
    "# feat_dictionary= {'hours-per-week':3,'capital-gain':10,'capital-loss':5,'education-num':5 ,'workclass':7,'education':16, 'relationship':6, 'occupation':14 }\n",
    "\n",
    "\n",
    "\n",
    "# main_exp_bf_func(adult_dataset,features_cat,features_num,protected_attributes, target, p_att_col, \\\n",
    "#                  priviliged_vals , etas, feat_dictionary, technique, model)\n",
    " "
   ]
  },
  {
   "cell_type": "code",
   "execution_count": 20,
   "id": "e8eac8fb",
   "metadata": {},
   "outputs": [],
   "source": [
    "adult_dataset = NamedDataset('adult',adult_df)\n"
   ]
  },
  {
   "cell_type": "markdown",
   "id": "14d9d83b",
   "metadata": {},
   "source": [
    "# sex, xy_greater_xa, base classifier"
   ]
  },
  {
   "cell_type": "code",
   "execution_count": 15,
   "id": "b704a816",
   "metadata": {},
   "outputs": [
    {
     "name": "stdout",
     "output_type": "stream",
     "text": [
      "['adult', 'xy_greater_xa', 'base_classifier']\n",
      "Index(['filtered_sex', 'workclass', 'education', 'hours-per-week',\n",
      "       'capital-gain', 'capital-loss', 'education-num'],\n",
      "      dtype='object')\n"
     ]
    }
   ],
   "source": [
    "features_num = ['hours-per-week', 'capital-gain', 'capital-loss','education-num' ] \n",
    "features_cat =  ['workclass','education', 'relationship', 'occupation'] \n",
    "protected_attributes = ['sex','race','age', 'marital-status']\n",
    "target = 'income-per-year'\n",
    "\n",
    "\n",
    "p_att_col = 'sex'\n",
    "priviliged_vals = [1]\n",
    "model = fsm.base_classifier\n",
    "technique = fsm.xy_greater_xa\n",
    "etas = [1]\n",
    "feat_dictionary= {'hours-per-week':3,'capital-gain':10,'capital-loss':5,'education-num':5 ,'workclass':7,'education':16, 'relationship':6, 'occupation':14 }\n",
    " \n",
    "\n",
    "thesis_param_grid = {'data':[adult_dataset],'features_cat': [features_cat], 'features_num':[features_num],\\\n",
    "                     'protected_attributes':[protected_attributes],\\\n",
    "                     'target': [target], 'p_att_col': [p_att_col],'priviliged_vals':\\\n",
    "                     [priviliged_vals] , 'etas': [etas], 'feat_dictionary' : [feat_dictionary],\\\n",
    "                     'technique': [technique], 'model': [model]}\n",
    "\n",
    "my_expt = Experiment(fsm.main_exp_bf_func,thesis_param_grid)\n",
    "batchname, successes ,fails = my_expt.run_batch(expt_name = 'criteria1_sex_base_classifier', name_func = name_function)"
   ]
  },
  {
   "cell_type": "markdown",
   "id": "dc8f54f6",
   "metadata": {},
   "source": [
    "# sex, xy_greater_xa, fair classifier"
   ]
  },
  {
   "cell_type": "code",
   "execution_count": 41,
   "id": "84dbb1b3",
   "metadata": {},
   "outputs": [
    {
     "name": "stdout",
     "output_type": "stream",
     "text": [
      "['adult', 'xy_greater_xa', 'fair_classifier']\n",
      "['filtered_sex', 'workclass', 'education', 'hours-per-week', 'capital-gain', 'capital-loss', 'education-num', 'income-per-year']\n"
     ]
    }
   ],
   "source": [
    "features_num = ['hours-per-week', 'capital-gain', 'capital-loss','education-num' ] \n",
    "features_cat =  ['workclass','education', 'relationship', 'occupation'] \n",
    "protected_attributes = ['sex','race','age', 'marital-status']\n",
    "target = 'income-per-year'\n",
    "\n",
    "\n",
    "p_att_col = 'sex'\n",
    "priviliged_vals = [1]\n",
    "model = fair_classifier\n",
    "technique = xy_greater_xa\n",
    "etas = [1]\n",
    "feat_dictionary= {'hours-per-week':3,'capital-gain':10,'capital-loss':5,'education-num':5 ,'workclass':7,'education':16, 'relationship':6, 'occupation':14 }\n",
    " \n",
    "\n",
    "thesis_param_grid = {'data':[adult_dataset],'features_cat': [features_cat], 'features_num':[features_num],\\\n",
    "                     'protected_attributes':[protected_attributes],\\\n",
    "                     'target': [target], 'p_att_col': [p_att_col],'priviliged_vals':\\\n",
    "                     [priviliged_vals] , 'etas': [etas], 'feat_dictionary' : [feat_dictionary],\\\n",
    "                     'technique': [technique], 'model': [model]}\n",
    "\n",
    "my_expt = Experiment(main_exp_bf_func,thesis_param_grid)\n",
    "batchname, successes ,fails = my_expt.run_batch(expt_name = 'criteria1_sex_fair_classifier', name_func = name_function)\n"
   ]
  },
  {
   "cell_type": "markdown",
   "id": "bb859901",
   "metadata": {},
   "source": [
    "# sex, forward sfs, base classifier"
   ]
  },
  {
   "cell_type": "code",
   "execution_count": null,
   "id": "b5563a0d",
   "metadata": {},
   "outputs": [],
   "source": [
    "features_num = ['hours-per-week', 'capital-gain', 'capital-loss','education-num' ] \n",
    "features_cat =  ['workclass','education', 'relationship', 'occupation'] \n",
    "protected_attributes = ['sex','race','age', 'marital-status']\n",
    "target = 'income-per-year'\n",
    "\n",
    "\n",
    "p_att_col = 'sex'\n",
    "priviliged_vals = [1]\n",
    "model = fsm.base_classifier\n",
    "technique = fsm.sequential_feature_selection_forward\n",
    "etas = [1]\n",
    "feat_dictionary= {'hours-per-week':3,'capital-gain':10,'capital-loss':5,'education-num':5 ,'workclass':7,'education':16, 'relationship':6, 'occupation':14 }\n",
    " "
   ]
  },
  {
   "cell_type": "markdown",
   "id": "65afd46c",
   "metadata": {},
   "source": [
    "Debug this, there's consequences to switching the type. "
   ]
  },
  {
   "cell_type": "code",
   "execution_count": 21,
   "id": "60953240",
   "metadata": {},
   "outputs": [
    {
     "ename": "TypeError",
     "evalue": "'NamedDataset' object is not subscriptable",
     "output_type": "error",
     "traceback": [
      "\u001b[0;31m---------------------------------------------------------------------------\u001b[0m",
      "\u001b[0;31mTypeError\u001b[0m                                 Traceback (most recent call last)",
      "Cell \u001b[0;32mIn [21], line 1\u001b[0m\n\u001b[0;32m----> 1\u001b[0m \u001b[43mfsm\u001b[49m\u001b[38;5;241;43m.\u001b[39;49m\u001b[43msequential_feature_selection_forward\u001b[49m\u001b[43m(\u001b[49m\u001b[43madult_dataset\u001b[49m\u001b[43m,\u001b[49m\u001b[43mfeatures_cat\u001b[49m\u001b[43m,\u001b[49m\u001b[43mfeatures_num\u001b[49m\u001b[43m,\u001b[49m\n\u001b[1;32m      2\u001b[0m \u001b[43m                                        \u001b[49m\u001b[43mprotected_attributes\u001b[49m\u001b[43m,\u001b[49m\u001b[43mtarget\u001b[49m\u001b[43m,\u001b[49m\u001b[43mfeat_dictionary\u001b[49m\u001b[43m)\u001b[49m\n",
      "File \u001b[0;32m~/Documents/code/MS_thesis_feature-seletion/feature_selection_main_function/feature_selection_module.py:426\u001b[0m, in \u001b[0;36msequential_feature_selection_forward\u001b[0;34m(data, features_cat, features_num, protected_attributes, target, feat_dictionary)\u001b[0m\n\u001b[1;32m    407\u001b[0m \u001b[38;5;28;01mdef\u001b[39;00m \u001b[38;5;21msequential_feature_selection_forward\u001b[39m(data,features_cat,features_num,protected_attributes, target,feat_dictionary):  \n\u001b[1;32m    408\u001b[0m     \u001b[38;5;66;03m#return \u001b[39;00m\n\u001b[1;32m    409\u001b[0m     \u001b[38;5;124;03m'''\u001b[39;00m\n\u001b[1;32m    410\u001b[0m \u001b[38;5;124;03m    this criteria works in a forward sequential manner to select relevant and fair sub sets of features based on mutual information calculation.\u001b[39;00m\n\u001b[1;32m    411\u001b[0m \u001b[38;5;124;03m    \u001b[39;00m\n\u001b[0;32m   (...)\u001b[0m\n\u001b[1;32m    423\u001b[0m \u001b[38;5;124;03m    returns : returns features selected by sfs as values of protected attribute(key) in use   \u001b[39;00m\n\u001b[1;32m    424\u001b[0m \u001b[38;5;124;03m    '''\u001b[39;00m\n\u001b[0;32m--> 426\u001b[0m     features_encoded_data,enc \u001b[38;5;241m=\u001b[39m \u001b[43mcategorical_feature_encoder\u001b[49m\u001b[43m(\u001b[49m\u001b[43mdata\u001b[49m\u001b[38;5;241;43m.\u001b[39;49m\u001b[43mcopy\u001b[49m\u001b[43m(\u001b[49m\u001b[43m)\u001b[49m\u001b[43m,\u001b[49m\u001b[43mfeatures_cat\u001b[49m\u001b[43m \u001b[49m\u001b[38;5;241;43m+\u001b[39;49m\u001b[43m \u001b[49m\u001b[43mprotected_attributes\u001b[49m\u001b[43m)\u001b[49m\n\u001b[1;32m    427\u001b[0m     dictionary_features \u001b[38;5;241m=\u001b[39m {}\n\u001b[1;32m    428\u001b[0m     \u001b[38;5;28;01mfor\u001b[39;00m att \u001b[38;5;129;01min\u001b[39;00m protected_attributes:\n",
      "File \u001b[0;32m~/Documents/code/MS_thesis_feature-seletion/feature_selection_main_function/feature_selection_module.py:46\u001b[0m, in \u001b[0;36mcategorical_feature_encoder\u001b[0;34m(data, features)\u001b[0m\n\u001b[1;32m     44\u001b[0m \u001b[38;5;28;01mfor\u001b[39;00m f \u001b[38;5;129;01min\u001b[39;00m features:\n\u001b[1;32m     45\u001b[0m     encoder \u001b[38;5;241m=\u001b[39m OrdinalEncoder()\n\u001b[0;32m---> 46\u001b[0m     data[f] \u001b[38;5;241m=\u001b[39m encoder\u001b[38;5;241m.\u001b[39mfit_transform(\u001b[43mdata\u001b[49m\u001b[43m[\u001b[49m\u001b[43m[\u001b[49m\u001b[43mf\u001b[49m\u001b[43m]\u001b[49m\u001b[43m]\u001b[49m)\u001b[38;5;241m.\u001b[39mastype(\u001b[38;5;28mint\u001b[39m)\n\u001b[1;32m     47\u001b[0m     enc[f] \u001b[38;5;241m=\u001b[39m encoder\n\u001b[1;32m     48\u001b[0m \u001b[38;5;28;01mreturn\u001b[39;00m data, enc\n",
      "\u001b[0;31mTypeError\u001b[0m: 'NamedDataset' object is not subscriptable"
     ]
    }
   ],
   "source": [
    "fsm.sequential_feature_selection_forward(adult_dataset,features_cat,features_num,\n",
    "                                        protected_attributes,target,feat_dictionary)"
   ]
  },
  {
   "cell_type": "code",
   "execution_count": 18,
   "id": "0c8e4793",
   "metadata": {},
   "outputs": [
    {
     "name": "stdout",
     "output_type": "stream",
     "text": [
      "['adult', 'sequential_feature_selection_forward', 'base_classifier']\n",
      "Index(['filtered_sex', 'hours-per-week', 'capital-gain', 'capital-loss',\n",
      "       'education-num'],\n",
      "      dtype='object')\n"
     ]
    }
   ],
   "source": [
    "thesis_param_grid = {'data':[adult_dataset],'features_cat': [features_cat], 'features_num':[features_num],\\\n",
    "                     'protected_attributes':[protected_attributes],\\\n",
    "                     'target': [target], 'p_att_col': [p_att_col],'priviliged_vals':\\\n",
    "                     [priviliged_vals] , 'etas': [etas], 'feat_dictionary' : [feat_dictionary],\\\n",
    "                     'technique': [technique], 'model': [model]}\n",
    "\n",
    "my_expt = Experiment(fsm.main_exp_bf_func,thesis_param_grid)\n",
    "batchname, successes ,fails = my_expt.run_batch(expt_name = 'criteria2_fsfs_sex_base_classifier', name_func = name_function)"
   ]
  },
  {
   "cell_type": "markdown",
   "id": "e5472d8d",
   "metadata": {},
   "source": [
    "# sex, forward sfs, fair classifier\n"
   ]
  },
  {
   "cell_type": "code",
   "execution_count": 43,
   "id": "223bcc8e",
   "metadata": {},
   "outputs": [
    {
     "name": "stdout",
     "output_type": "stream",
     "text": [
      "['adult', 'sequential_feature_selection_forward', 'fair_classifier']\n",
      "['filtered_sex', 'hours-per-week', 'capital-gain', 'capital-loss', 'education-num', 'income-per-year']\n"
     ]
    }
   ],
   "source": [
    "features_num = ['hours-per-week', 'capital-gain', 'capital-loss','education-num' ] \n",
    "features_cat =  ['workclass','education', 'relationship', 'occupation'] \n",
    "protected_attributes = ['sex','race','age', 'marital-status']\n",
    "target = 'income-per-year'\n",
    "\n",
    "\n",
    "p_att_col = 'sex'\n",
    "priviliged_vals = [1]\n",
    "model = fair_classifier\n",
    "technique = sequential_feature_selection_forward\n",
    "etas = [1]\n",
    "feat_dictionary= {'hours-per-week':3,'capital-gain':10,'capital-loss':5,'education-num':5 ,'workclass':7,'education':16, 'relationship':6, 'occupation':14 }\n",
    " \n",
    "\n",
    "thesis_param_grid = {'data':[adult_dataset],'features_cat': [features_cat], 'features_num':[features_num],\\\n",
    "                     'protected_attributes':[protected_attributes],\\\n",
    "                     'target': [target], 'p_att_col': [p_att_col],'priviliged_vals':\\\n",
    "                     [priviliged_vals] , 'etas': [etas], 'feat_dictionary' : [feat_dictionary],\\\n",
    "                     'technique': [technique], 'model': [model]}\n",
    "\n",
    "my_expt = Experiment(main_exp_bf_func,thesis_param_grid)\n",
    "batchname, successes ,fails = my_expt.run_batch(expt_name = 'criteria2_fsfs_sex_fair_classifier', name_func = name_function)"
   ]
  },
  {
   "cell_type": "markdown",
   "id": "5659be0a",
   "metadata": {},
   "source": [
    "# sex, backward sfs, base classifier\n"
   ]
  },
  {
   "cell_type": "code",
   "execution_count": 45,
   "id": "a876fd64",
   "metadata": {},
   "outputs": [
    {
     "name": "stdout",
     "output_type": "stream",
     "text": [
      "['adult', 'sequential_feature_selection_backward', 'base_classifier']\n",
      "Index(['filtered_sex', 'workclass', 'education', 'relationship', 'occupation'], dtype='object')\n"
     ]
    }
   ],
   "source": [
    "features_num = ['hours-per-week', 'capital-gain', 'capital-loss','education-num' ] \n",
    "features_cat =  ['workclass','education', 'relationship', 'occupation'] \n",
    "protected_attributes = ['sex','race','age', 'marital-status']\n",
    "target = 'income-per-year'\n",
    "\n",
    "\n",
    "p_att_col = 'sex'\n",
    "priviliged_vals = [1]\n",
    "model = base_classifier\n",
    "technique = sequential_feature_selection_backward\n",
    "etas = [1]\n",
    "feat_dictionary= {'hours-per-week':3,'capital-gain':10,'capital-loss':5,'education-num':5 ,'workclass':7,'education':16, 'relationship':6, 'occupation':14 }\n",
    " \n",
    "\n",
    "thesis_param_grid = {'data':[adult_dataset],'features_cat': [features_cat], 'features_num':[features_num],\\\n",
    "                     'protected_attributes':[protected_attributes],\\\n",
    "                     'target': [target], 'p_att_col': [p_att_col],'priviliged_vals':\\\n",
    "                     [priviliged_vals] , 'etas': [etas], 'feat_dictionary' : [feat_dictionary],\\\n",
    "                     'technique': [technique], 'model': [model]}\n",
    "\n",
    "my_expt = Experiment(main_exp_bf_func,thesis_param_grid)\n",
    "batchname, successes ,fails = my_expt.run_batch(expt_name = 'criteria2_bsfs_sex_base_classifier', name_func = name_function)"
   ]
  },
  {
   "cell_type": "markdown",
   "id": "1af671ee",
   "metadata": {},
   "source": [
    "# sex, backward sfs, fair classifier\n"
   ]
  },
  {
   "cell_type": "code",
   "execution_count": 46,
   "id": "fe4796eb",
   "metadata": {},
   "outputs": [
    {
     "name": "stdout",
     "output_type": "stream",
     "text": [
      "['adult', 'sequential_feature_selection_backward', 'fair_classifier']\n",
      "['filtered_sex', 'workclass', 'education', 'relationship', 'occupation', 'income-per-year']\n"
     ]
    }
   ],
   "source": [
    "features_num = ['hours-per-week', 'capital-gain', 'capital-loss','education-num' ] \n",
    "features_cat =  ['workclass','education', 'relationship', 'occupation'] \n",
    "protected_attributes = ['sex','race','age', 'marital-status']\n",
    "target = 'income-per-year'\n",
    "\n",
    "\n",
    "p_att_col = 'sex'\n",
    "priviliged_vals = [1]\n",
    "model = fair_classifier\n",
    "technique = sequential_feature_selection_backward\n",
    "etas = [1]\n",
    "feat_dictionary= {'hours-per-week':3,'capital-gain':10,'capital-loss':5,'education-num':5 ,'workclass':7,'education':16, 'relationship':6, 'occupation':14 }\n",
    " \n",
    "\n",
    "thesis_param_grid = {'data':[adult_dataset],'features_cat': [features_cat], 'features_num':[features_num],\\\n",
    "                     'protected_attributes':[protected_attributes],\\\n",
    "                     'target': [target], 'p_att_col': [p_att_col],'priviliged_vals':\\\n",
    "                     [priviliged_vals] , 'etas': [etas], 'feat_dictionary' : [feat_dictionary],\\\n",
    "                     'technique': [technique], 'model': [model]}\n",
    "\n",
    "my_expt = Experiment(main_exp_bf_func,thesis_param_grid)\n",
    "batchname, successes ,fails = my_expt.run_batch(expt_name = 'criteria2_bsfs_sex_fair_classifier', name_func = name_function)"
   ]
  },
  {
   "cell_type": "markdown",
   "id": "bb45a63f",
   "metadata": {},
   "source": [
    "# sex, MRMR, base classifier\n"
   ]
  },
  {
   "cell_type": "code",
   "execution_count": 47,
   "id": "31c71647",
   "metadata": {},
   "outputs": [
    {
     "name": "stdout",
     "output_type": "stream",
     "text": [
      "['adult', 'maximally_predictive_minimally_demographic', 'base_classifier']\n",
      "Index(['filtered_sex', 'capital-gain', 'education-num', 'education',\n",
      "       'capital-loss', 'hours-per-week'],\n",
      "      dtype='object')\n"
     ]
    }
   ],
   "source": [
    "features_num = ['hours-per-week', 'capital-gain', 'capital-loss','education-num' ] \n",
    "features_cat =  ['workclass','education', 'relationship', 'occupation'] \n",
    "protected_attributes = ['sex','race','age', 'marital-status']\n",
    "target = 'income-per-year'\n",
    "\n",
    "\n",
    "p_att_col = 'sex'\n",
    "priviliged_vals = [1]\n",
    "model = base_classifier\n",
    "technique = maximally_predictive_minimally_demographic\n",
    "etas = [1]\n",
    "feat_dictionary= {'hours-per-week':3,'capital-gain':10,'capital-loss':5,'education-num':5 ,'workclass':7,'education':16, 'relationship':6, 'occupation':14 }\n",
    " \n",
    "\n",
    "thesis_param_grid = {'data':[adult_dataset],'features_cat': [features_cat], 'features_num':[features_num],\\\n",
    "                     'protected_attributes':[protected_attributes],\\\n",
    "                     'target': [target], 'p_att_col': [p_att_col],'priviliged_vals':\\\n",
    "                     [priviliged_vals] , 'etas': [etas], 'feat_dictionary' : [feat_dictionary],\\\n",
    "                     'technique': [technique], 'model': [model]}\n",
    "\n",
    "my_expt = Experiment(main_exp_bf_func,thesis_param_grid)\n",
    "batchname, successes ,fails = my_expt.run_batch(expt_name = 'criteria3_sex_base_classifier', name_func = name_function)"
   ]
  },
  {
   "cell_type": "markdown",
   "id": "d1a40c15",
   "metadata": {},
   "source": [
    "# sex, MRMR, fair classifier\n"
   ]
  },
  {
   "cell_type": "code",
   "execution_count": 48,
   "id": "948d25eb",
   "metadata": {},
   "outputs": [
    {
     "name": "stdout",
     "output_type": "stream",
     "text": [
      "['adult', 'maximally_predictive_minimally_demographic', 'fair_classifier']\n",
      "['filtered_sex', 'capital-gain', 'education-num', 'education', 'capital-loss', 'hours-per-week', 'income-per-year']\n"
     ]
    }
   ],
   "source": [
    "features_num = ['hours-per-week', 'capital-gain', 'capital-loss','education-num' ] \n",
    "features_cat =  ['workclass','education', 'relationship', 'occupation'] \n",
    "protected_attributes = ['sex','race','age', 'marital-status']\n",
    "target = 'income-per-year'\n",
    "\n",
    "\n",
    "p_att_col = 'sex'\n",
    "priviliged_vals = [1]\n",
    "model = fair_classifier\n",
    "technique = maximally_predictive_minimally_demographic\n",
    "etas = [1]\n",
    "feat_dictionary= {'hours-per-week':3,'capital-gain':10,'capital-loss':5,'education-num':5 ,'workclass':7,'education':16, 'relationship':6, 'occupation':14 }\n",
    " \n",
    "\n",
    "thesis_param_grid = {'data':[adult_dataset],'features_cat': [features_cat], 'features_num':[features_num],\\\n",
    "                     'protected_attributes':[protected_attributes],\\\n",
    "                     'target': [target], 'p_att_col': [p_att_col],'priviliged_vals':\\\n",
    "                     [priviliged_vals] , 'etas': [etas], 'feat_dictionary' : [feat_dictionary],\\\n",
    "                     'technique': [technique], 'model': [model]}\n",
    "\n",
    "my_expt = Experiment(main_exp_bf_func,thesis_param_grid)\n",
    "batchname, successes ,fails = my_expt.run_batch(expt_name = 'criteria3_sex_fair_classifier', name_func = name_function)"
   ]
  },
  {
   "cell_type": "code",
   "execution_count": null,
   "id": "2fe669f0",
   "metadata": {},
   "outputs": [],
   "source": []
  }
 ],
 "metadata": {
  "kernelspec": {
   "display_name": "Python 3",
   "language": "python",
   "name": "python3"
  },
  "language_info": {
   "codemirror_mode": {
    "name": "ipython",
    "version": 3
   },
   "file_extension": ".py",
   "mimetype": "text/x-python",
   "name": "python",
   "nbconvert_exporter": "python",
   "pygments_lexer": "ipython3",
   "version": "3.8.6"
  }
 },
 "nbformat": 4,
 "nbformat_minor": 5
}
